{
 "cells": [
  {
   "cell_type": "markdown",
   "id": "7e87e636",
   "metadata": {},
   "source": [
    "## GPT-4o Vision — AI-Generated Marketing Banners from Email Content\n",
    "This notebook generates marketing banners using GPT-4o Vision (Image 1 API), based on just the **email content**. You can customize style, tone, and background with prompt tuning — no manual design required.\n"
   ]
  },
  {
   "cell_type": "markdown",
   "id": "9b0349d5",
   "metadata": {},
   "source": [
    "### Setup & Imports\n",
    "Install and import the necessary libraries. Set up your `.env` file for the OpenAI API key and endpoint.\n"
   ]
  },
  {
   "cell_type": "code",
   "execution_count": null,
   "id": "d8d4c8d6",
   "metadata": {},
   "outputs": [],
   "source": [
    "import os\n",
    "import json\n",
    "import requests\n",
    "import base64\n",
    "from datetime import datetime"
   ]
  },
  {
   "cell_type": "code",
   "execution_count": null,
   "id": "38cdcb97",
   "metadata": {},
   "outputs": [],
   "source": [
    "OPENAI_API_KEY = os.getenv(\"AZURE_GPT_IMAGE_1_API_KEY\")\n",
    "OPENAI_ENDPOINT = os.getenv(\"AZURE_GPT_IMAGE_1_ENDPOINT\")\n",
    "OPENAI_DEPLOYMENT = os.getenv(\"AZURE_GPT_IMAGE_1_DEPLOYMENT_NAME\")\n",
    "OPENAI_API_VERSION = os.getenv(\"AZURE_GPT_IMAGE_1_API_VERSION\", \"2023-12-01-preview\")"
   ]
  },
  {
   "cell_type": "markdown",
   "id": "cea2bbb5",
   "metadata": {},
   "source": [
    "### Decode & Save Image Locally\n",
    "This section decodes the base64 string and saves the image to disk as .png.\n",
    "\n",
    "It also logs:\n",
    "\n",
    "- Style, tone, background\n",
    "\n",
    "- Prompt used\n",
    "\n",
    "- Timestamp\n",
    "\n",
    "- Shortened email body"
   ]
  },
  {
   "cell_type": "code",
   "execution_count": null,
   "id": "9bb1c113",
   "metadata": {},
   "outputs": [],
   "source": [
    "save_dir = \"generated_banners\"\n",
    "os.makedirs(save_dir, exist_ok=True)\n",
    "\n",
    "log_path = os.path.join(save_dir, \"generation_log.json\")\n",
    "if not os.path.exists(log_path):\n",
    "    with open(log_path, \"w\") as f:\n",
    "        json.dump([], f)  # initialize log\n"
   ]
  },
  {
   "cell_type": "code",
   "execution_count": null,
   "id": "2983685a",
   "metadata": {},
   "outputs": [],
   "source": [
    "\n",
    "def save_banner_image_from_b64(image_b64, style, tone, background, email_body):\n",
    "    timestamp = datetime.now().strftime(\"%Y%m%d_%H%M%S\")\n",
    "    filename = f\"banner_{style}_{tone}_{background}_{timestamp}.png\"\n",
    "    filepath = os.path.join(save_dir, filename)\n",
    "\n",
    "    # Decode and save image from base64\n",
    "    image_bytes = base64.b64decode(image_b64)\n",
    "    with open(filepath, \"wb\") as handler:\n",
    "        handler.write(image_bytes)\n",
    "\n",
    "    # Log metadata\n",
    "    with open(log_path, \"r+\") as log_file:\n",
    "        logs = json.load(log_file)\n",
    "        logs.append({\n",
    "            \"filename\": filename,\n",
    "            \"style\": style,\n",
    "            \"tone\": tone,\n",
    "            \"background\": background,\n",
    "            \"timestamp\": timestamp,\n",
    "            \"email_body\": email_body[:100],  # truncated\n",
    "            \n",
    "        })\n",
    "        log_file.seek(0)\n",
    "        json.dump(logs, log_file, indent=2)\n",
    "\n",
    "    print(f\"✅ Image saved: {filename}\")\n"
   ]
  },
  {
   "cell_type": "markdown",
   "id": "10b947a5",
   "metadata": {},
   "source": [
    "### Define Styles, Tones, and Backgrounds\n",
    "Here we define prompt-tuning parameters that control the design language of the generated image."
   ]
  },
  {
   "cell_type": "code",
   "execution_count": 10,
   "id": "034dbed7",
   "metadata": {},
   "outputs": [],
   "source": [
    "# Styles to test\n",
    "styles = [\"realistic\", \"minimalist\", \"modern\", \"flat illustration\", \"3D render\", \"vibrant colors\"]\n",
    "\n",
    "# Tones to test\n",
    "tones = [\"professional\", \"fun\", \"luxurious\", \"bold\", \"elegant\", \"friendly\"]\n",
    "\n",
    "# Optional background concepts\n",
    "backgrounds = [\"abstract gradient\", \"product display\", \"seasonal theme\", \"digital pattern\"]\n"
   ]
  },
  {
   "cell_type": "markdown",
   "id": "71ae2820",
   "metadata": {},
   "source": [
    "### Prompt Builder\n",
    "We define a function to build a structured image generation prompt using:\n",
    "- Email body\n",
    "- Channel (Email / WhatsApp / SMS)\n",
    "- Style, tone, and background keywords\n"
   ]
  },
  {
   "cell_type": "code",
   "execution_count": 11,
   "id": "1485f85a",
   "metadata": {},
   "outputs": [],
   "source": [
    "def build_prompt(email_body, channel, style, tone, background):\n",
    "    return f\"\"\"Generate a high-quality marketing banner image.\n",
    "\n",
    "Email Body: {email_body}\n",
    "Channel: {channel}\n",
    "\n",
    "Design Instructions:\n",
    "- The banner should reflect a **{tone}** tone and follow a **{style}** visual style.\n",
    "- Use a **{background}** background that matches the campaign theme.\n",
    "- Ensure the design matches the channel:\n",
    "    * Email: polished layout, strong visuals, branded colors\n",
    "    * WhatsApp: bold elements, minimal text, high contrast\n",
    "    * SMS: ultra-minimalist, single CTA focus\n",
    "\n",
    "Avoid including too much text. Don’t generate screenshots or plain text banners — this is a visual marketing asset, not a text template.\"\"\"\n"
   ]
  },
  {
   "cell_type": "markdown",
   "id": "d066bda0",
   "metadata": {},
   "source": [
    "###  Image Generation with GPT-4o\n",
    "Call the OpenAI API using the prompt. We use `b64_json` response format to get the image as base64, which we later decode and save.\n"
   ]
  },
  {
   "cell_type": "code",
   "execution_count": 24,
   "id": "664f8284",
   "metadata": {},
   "outputs": [],
   "source": [
    "def generate_banner_image(email_body, channel, style, tone, background):\n",
    "    url = f\"{OPENAI_ENDPOINT}/openai/deployments/{OPENAI_DEPLOYMENT}/images/generations?api-version={OPENAI_API_VERSION}\"\n",
    "    headers = {\n",
    "            \"Content-Type\": \"application/json\",\n",
    "            \"api-key\": OPENAI_API_KEY\n",
    "        }\n",
    "    \n",
    "\n",
    "    payload = {\n",
    "        \"prompt\": build_prompt(email_body, channel, style, tone, background),\n",
    "        \"size\": \"1024x1024\",\n",
    "        \"quality\": \"high\",  # if your model supports it\n",
    "        \"n\": 1\n",
    "    }\n",
    "\n",
    "    response = requests.post(url, headers=headers, data=json.dumps(payload))\n",
    "\n",
    "    return response\n"
   ]
  },
  {
   "cell_type": "code",
   "execution_count": 25,
   "id": "7de62249",
   "metadata": {},
   "outputs": [],
   "source": [
    "email_body = \"\"\"Step into the new season with our limited-time Autumn Collection.\n",
    "\n",
    "From cozy knits to stylish boots, discover pieces that combine comfort and elegance. Enjoy 30% off this week only.\n",
    "\n",
    "Redefine your style today.\"\"\""
   ]
  },
  {
   "cell_type": "markdown",
   "id": "411d48a4",
   "metadata": {},
   "source": [
    "### Loop Through Variants\n",
    "Here, we loop over multiple combinations of styles, tones, and backgrounds using a nested loop to generate multiple banners for the same email body.\n",
    "\n",
    "Each banner is saved with a timestamped filename."
   ]
  },
  {
   "cell_type": "code",
   "execution_count": null,
   "id": "6bc57996",
   "metadata": {},
   "outputs": [],
   "source": [
    "for style in styles:\n",
    "    for tone in tones:\n",
    "        for bg in backgrounds:\n",
    "            response = generate_banner_image(\n",
    "                email_body=\"Check out our latest product launch!\",\n",
    "                channel=\"email\",\n",
    "                style=style,\n",
    "                tone=tone,\n",
    "                background=bg\n",
    "            )\n",
    "\n",
    "            response_json = response.json()\n",
    "\n",
    "            image_b64 = response_json['data'][0]['b64_json']\n",
    "\n",
    "\n",
    "            save_banner_image_from_b64(image_b64, style, tone, bg, email_body)\n",
    "            print(f\"✅ Saved: {style} | {tone} | {bg}\")"
   ]
  }
 ],
 "metadata": {
  "kernelspec": {
   "display_name": "gpt_venv (3.13.3)",
   "language": "python",
   "name": "python3"
  },
  "language_info": {
   "codemirror_mode": {
    "name": "ipython",
    "version": 3
   },
   "file_extension": ".py",
   "mimetype": "text/x-python",
   "name": "python",
   "nbconvert_exporter": "python",
   "pygments_lexer": "ipython3",
   "version": "3.13.3"
  }
 },
 "nbformat": 4,
 "nbformat_minor": 5
}
